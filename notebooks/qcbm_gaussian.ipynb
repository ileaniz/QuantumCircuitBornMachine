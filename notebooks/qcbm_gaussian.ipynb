{
 "cells": [
  {
   "cell_type": "code",
   "execution_count": 1,
   "metadata": {
    "colab": {
     "autoexec": {
      "startup": false,
      "wait_interval": 0
     }
    },
    "colab_type": "code",
    "collapsed": true,
    "id": "hHqdDh5Bl_uF"
   },
   "outputs": [],
   "source": [
    "import numpy as np\n",
    "import matplotlib.pyplot as plt\n",
    "import scipy.sparse as sps"
   ]
  },
  {
   "cell_type": "markdown",
   "metadata": {
    "colab_type": "text",
    "id": "9Po0tv6fl_uR"
   },
   "source": [
    "# training set\n",
    "Our training set is a simple Gaussian distribution"
   ]
  },
  {
   "cell_type": "code",
   "execution_count": 20,
   "metadata": {
    "colab": {
     "autoexec": {
      "startup": false,
      "wait_interval": 0
     },
     "base_uri": "https://localhost:8080/",
     "height": 348
    },
    "colab_type": "code",
    "executionInfo": {
     "elapsed": 1081,
     "status": "ok",
     "timestamp": 1523077605597,
     "user": {
      "displayName": "刘金国",
      "photoUrl": "//lh3.googleusercontent.com/-lDAT81T3HSE/AAAAAAAAAAI/AAAAAAAAAgw/eH3JEob7M1Y/s50-c-k-no/photo.jpg",
      "userId": "116824001998056121289"
     },
     "user_tz": -480
    },
    "id": "Ds9tMSqAl_uU",
    "outputId": "0340dbd8-8e0a-441a-e443-5dcf50ec8162"
   },
   "outputs": [
    {
     "data": {
      "image/png": "[encoded data removed]",
      "text/plain": [
       "<matplotlib.figure.Figure at 0x7f45779d73c8>"
      ]
     },
     "metadata": {
      "tags": []
     },
     "output_type": "display_data"
    }
   ],
   "source": [
    "def gaussian_pdf(num_bit, mu, sigma):\n",
    "    '''get gaussian distribution function'''\n",
    "    x = np.arange(2**num_bit)\n",
    "    pl = 1. / np.sqrt(2 * np.pi * sigma**2) * \\\n",
    "        np.exp(-(x - mu)**2 / (2. * sigma**2))\n",
    "    return pl/pl.sum()\n",
    "\n",
    "num_bit = 6\n",
    "pg = gaussian_pdf(num_bit, mu=2**5-0.5, sigma=2**4)\n",
    "plt.plot(pg)\n",
    "plt.show()"
   ]
  },
  {
   "cell_type": "markdown",
   "metadata": {
    "colab_type": "text",
    "id": "99B1jfKfl_ud"
   },
   "source": [
    "# Build Circuits\n",
    "## Building Blocks\n",
    "Define matrix representations of operations using scipy sparse matrices.\n",
    "They are grouped to become a layer in a circuit, this layer can be `ArbitraryRotation` or `CNOTEntangler`.\n",
    "Which are used as our basic building blocks of our `Born Machines`."
   ]
  },
  {
   "cell_type": "code",
   "execution_count": null,
   "metadata": {
    "colab": {
     "autoexec": {
      "startup": false,
      "wait_interval": 0
     }
    },
    "colab_type": "code",
    "collapsed": true,
    "id": "kYr3mt1rl_uf"
   },
   "outputs": [],
   "source": [
    "######  Pauli Matrices  ########\n",
    "I2 = sps.eye(2).tocsr()\n",
    "sx = sps.csr_matrix([[0,1],[1,0.]])\n",
    "sy = sps.csr_matrix([[0,-1j],[1j,0.]])\n",
    "sz = sps.csr_matrix([[1,0],[0,-1.]])\n",
    "\n",
    "p0 = (sz + I2) / 2   #projection operator to |0><0|\n",
    "p1 = (-sz + I2) / 2\n",
    "\n",
    "# single bit rotation matrices\n",
    "def _ri(si, theta):\n",
    "    return np.cos(theta/2.)*I2 - 1j*np.sin(theta/2.)*si\n",
    "\n",
    "def rot(t1, t2, t3):\n",
    "    '''\n",
    "    a general rotation gate rz(t3)rx(t2)rz(t1).\n",
    "\n",
    "    Args:\n",
    "        t1, t2, t3 (float): three angles.\n",
    "\n",
    "    Returns:\n",
    "        2x2 csr_matrix: rotation matrix.\n",
    "    '''\n",
    "    return _ri(sz, t3).dot(_ri(sx, t2)).dot(_ri(sz, t1))\n",
    "\n",
    "# multiple bit construction\n",
    "def CNOT(ibit, jbit, n):\n",
    "    '''\n",
    "    CNOT gate\n",
    "    \n",
    "    Args:\n",
    "        ibit (int): control bit.\n",
    "        jbit (int): controled bit.\n",
    "        n (int): total number of qubits.\n",
    "        \n",
    "    Returns:\n",
    "        4x4 csr_matrix: CNOT matrix.\n",
    "    '''\n",
    "    res = _([p0, I2], [ibit, jbit], n)\n",
    "    res = res + _([p1, sx], [ibit, jbit], n)\n",
    "    return res\n",
    "\n",
    "def _(ops, locs, n):\n",
    "    '''\n",
    "    Compile operators into specific Hilbert space.\n",
    "\n",
    "    notice the last bit is the high end bit!\n",
    "\n",
    "    Args:\n",
    "        ops (list): list of single bit operators.\n",
    "        locs (list): list of positions.\n",
    "        n (int): total number of bits.\n",
    "\n",
    "    Returns:\n",
    "        csr_matrix: resulting matrix.\n",
    "    '''\n",
    "    if np.ndim(locs) == 0:\n",
    "        locs = [locs]\n",
    "    if not isinstance(ops, (list, tuple)):\n",
    "        ops = [ops]\n",
    "    locs = np.asarray(locs)\n",
    "    locs = n - locs\n",
    "    order = np.argsort(locs)\n",
    "    locs = np.concatenate([[0], locs[order], [n + 1]])\n",
    "    return _wrap_identity([ops[i] for i in order], np.diff(locs) - 1)\n",
    "\n",
    "\n",
    "def _wrap_identity(data_list, num_bit_list):\n",
    "    if len(num_bit_list) != len(data_list) + 1:\n",
    "        raise Exception()\n",
    "\n",
    "    res = sps.eye(2**num_bit_list[0])\n",
    "    for data, nbit in zip(data_list, num_bit_list[1:]):\n",
    "        res = sps.kron(res, data)\n",
    "        res = sps.kron(res, sps.eye(2**nbit, dtype='complex128'))\n",
    "    return res\n",
    "\n",
    "\n",
    "def initial_wf(num_bit):\n",
    "    '''initial wave function |00...0>.'''\n",
    "    wf = np.zeros(2**num_bit, dtype='complex128')\n",
    "    wf[0] = 1.\n",
    "    return wf"
   ]
  },
  {
   "cell_type": "code",
   "execution_count": null,
   "metadata": {
    "colab": {
     "autoexec": {
      "startup": false,
      "wait_interval": 0
     }
    },
    "colab_type": "code",
    "collapsed": true,
    "id": "1MBVIfw3l_ul"
   },
   "outputs": [],
   "source": [
    "class ArbitraryRotation(object):\n",
    "    '''Arbitrary rotation gate'''\n",
    "    def __init__(self, num_bit):\n",
    "        self.num_bit = num_bit\n",
    "        # mask is used to filter out some irrelevant (marked False) parameters\n",
    "        self.mask = np.array([True] * (3*num_bit), dtype='bool')\n",
    "\n",
    "    @property\n",
    "    def num_param(self):\n",
    "        return self.mask.sum()\n",
    "\n",
    "    def tocsr(self, theta_list):\n",
    "        '''transform this block to a sequence of csr_matrices.'''\n",
    "        theta_list_ = np.zeros(3*self.num_bit)\n",
    "        theta_list_[self.mask] = theta_list\n",
    "        rots = [rot(*ths) for ths in theta_list_.reshape([self.num_bit,3])]\n",
    "        res = [_([r], [i], self.num_bit) for i,r in enumerate(rots)]\n",
    "        return res\n",
    "\n",
    "class CNOTEntangler(object):\n",
    "    '''\n",
    "    CNOT Entangler Layer.\n",
    "    \n",
    "    Args:\n",
    "        pairs (list): a list of tuples to represent connections.\n",
    "    '''\n",
    "    def __init__(self, num_bit, pairs):\n",
    "        self.num_bit = num_bit\n",
    "        self.pairs = pairs\n",
    "\n",
    "    @property\n",
    "    def num_param(self):\n",
    "        return 0\n",
    "\n",
    "    def tocsr(self, theta_list):\n",
    "        '''transform this block to a sequence of csr_matrices.'''\n",
    "        i, j = self.pairs[0]\n",
    "        res = CNOT(i, j, self.num_bit)\n",
    "        for i, j in self.pairs[1:]:\n",
    "            res = CNOT(i,j,self.num_bit).dot(res)\n",
    "        res.eliminate_zeros()\n",
    "        return [res]"
   ]
  },
  {
   "cell_type": "markdown",
   "metadata": {
    "colab_type": "text",
    "id": "8dR6z_Sjl_uo"
   },
   "source": [
    "# Circuit\n",
    "A circuit is consist of queued layers, here this data structure is `BlockQueue`. A `BlockQueue` uses `theta_last` and `memo` attributes to cache sparse operators, this will accelerate simulation significantly."
   ]
  },
  {
   "cell_type": "code",
   "execution_count": null,
   "metadata": {
    "colab": {
     "autoexec": {
      "startup": false,
      "wait_interval": 0
     }
    },
    "colab_type": "code",
    "collapsed": true,
    "id": "ax0MxiMSl_up"
   },
   "outputs": [],
   "source": [
    "class BlockQueue(list):\n",
    "    '''\n",
    "    Block Queue that keep track of theta_list changing history, for fast update.\n",
    "    \n",
    "    Attributes:\n",
    "        theta_last (1darray): the cached circuit parameters.\n",
    "        memo (list): cached sparse matrices for layers.\n",
    "    '''\n",
    "    def __init__(self, *args):\n",
    "        list.__init__(self, *args)\n",
    "        self.theta_last = None\n",
    "        self.memo = None\n",
    "\n",
    "    def __call__(self, qureg, theta_list):\n",
    "        '''\n",
    "        Apply operations on vector basis: qureg. This operation changes vector inplace.\n",
    "        \n",
    "        Args:\n",
    "            qureg (1darray): vector basis.\n",
    "            theta_list (1darray): circuit parameters:\n",
    "        '''\n",
    "        # cache? if theta_list change <= 1 parameters, then don't touch memory.\n",
    "        remember = self.theta_last is None or (abs(self.theta_last-theta_list)>1e-12).sum() > 1\n",
    "\n",
    "        mats = []\n",
    "        theta_last = self.theta_last\n",
    "        if remember:\n",
    "            self.theta_last = theta_list.copy()\n",
    "\n",
    "        qureg_ = qureg\n",
    "        for iblock, block in enumerate(self):\n",
    "            # generate or use a block matrix\n",
    "            num_param = block.num_param\n",
    "            theta_i, theta_list = np.split(theta_list, [num_param])\n",
    "            if theta_last is not None:\n",
    "                theta_o, theta_last = np.split(theta_last, [num_param])\n",
    "            if self.memo is not None and (num_param==0 or np.abs(theta_i-theta_o).max()<1e-12):\n",
    "                # use data cached in memory\n",
    "                mat = self.memo[iblock]\n",
    "            else:\n",
    "                if self.memo is not None and not remember:\n",
    "                    # update the changed gate, but not touching memory.\n",
    "                    mat = _rot_tocsr_update1(block, self.memo[iblock], theta_o, theta_i)\n",
    "                else:\n",
    "                    # regenerate one\n",
    "                    mat = block.tocsr(theta_i)\n",
    "            for mat_i in mat:\n",
    "                qureg_ = mat_i.dot(qureg_)\n",
    "            mats.append(mat)\n",
    "\n",
    "        if remember:\n",
    "            # cache data\n",
    "            self.memo = mats\n",
    "        # update register\n",
    "        qureg[...] = qureg_\n",
    "        np.testing.assert_(len(theta_list)==0)\n",
    "        \n",
    "    @property\n",
    "    def num_bit(self):\n",
    "        return self[0].num_bit\n",
    "\n",
    "    @property\n",
    "    def num_param(self):\n",
    "        return sum([b.num_param for b in self])\n",
    "\n",
    "def _rot_tocsr_update1(layer, old, theta_old, theta_new):\n",
    "    '''\n",
    "    rotation layer csr_matrices update method.\n",
    "    \n",
    "    Args:\n",
    "        layer (ArbitraryRotation): rotation layer.\n",
    "        old (csr_matrix): old matrices.\n",
    "        theta_old (1darray): old parameters.\n",
    "        theta_new (1darray): new parameters.\n",
    "\n",
    "    Returns:\n",
    "        list of csr_matrix: new rotation matrices after the theta changed.\n",
    "    '''\n",
    "    idiff_param = np.where(abs(theta_old-theta_new)>1e-12)[0].item()\n",
    "    idiff = np.where(layer.mask)[0][idiff_param]\n",
    "\n",
    "    # get rotation parameters\n",
    "    isite = idiff//3\n",
    "    theta_list_ = np.zeros(3*layer.num_bit)\n",
    "    theta_list_[layer.mask] = theta_new\n",
    "    \n",
    "    new = old[:]\n",
    "    new[isite] = _(rot(*theta_list_[isite*3:isite*3+3]), isite, layer.num_bit)\n",
    "    return new"
   ]
  },
  {
   "cell_type": "code",
   "execution_count": null,
   "metadata": {
    "colab": {
     "autoexec": {
      "startup": false,
      "wait_interval": 0
     }
    },
    "colab_type": "code",
    "collapsed": true,
    "id": "pPa44pmWl_ur"
   },
   "outputs": [],
   "source": [
    "def get_nn_pairs(num_bit):\n",
    "    '''get nearest neighbor pairs.'''\n",
    "    res = []\n",
    "    for inth in range(2):\n",
    "        for i in range(inth, num_bit, 2):\n",
    "            res = res + [(i, i_ % num_bit) for i_ in range(i + 1, i + 2)]\n",
    "    return res\n",
    "\n",
    "def get_demo_circuit(num_bit, depth, pairs):\n",
    "    '''Get the circuit used for demo'''\n",
    "    blocks = []\n",
    "    # build circuit\n",
    "    for idepth in range(depth+1):\n",
    "        blocks.append(ArbitraryRotation(num_bit))\n",
    "        if idepth!=depth:\n",
    "            blocks.append(CNOTEntangler(num_bit, pairs))\n",
    "\n",
    "    # set leading and trailing Rz to disabled\n",
    "    blocks[0].mask[::3] = False\n",
    "    blocks[-1].mask[2::3] = False\n",
    "    return BlockQueue(blocks)"
   ]
  },
  {
   "cell_type": "code",
   "execution_count": 25,
   "metadata": {
    "colab": {
     "autoexec": {
      "startup": false,
      "wait_interval": 0
     },
     "base_uri": "https://localhost:8080/",
     "height": 55
    },
    "colab_type": "code",
    "executionInfo": {
     "elapsed": 1228,
     "status": "ok",
     "timestamp": 1523077612959,
     "user": {
      "displayName": "刘金国",
      "photoUrl": "//lh3.googleusercontent.com/-lDAT81T3HSE/AAAAAAAAAAI/AAAAAAAAAgw/eH3JEob7M1Y/s50-c-k-no/photo.jpg",
      "userId": "116824001998056121289"
     },
     "user_tz": -480
    },
    "id": "ksYpVLV9l_ut",
    "outputId": "e3e2d50f-5a3e-466c-952a-6aee8e114adf"
   },
   "outputs": [
    {
     "name": "stdout",
     "output_type": "stream",
     "text": [
      "[<__main__.ArbitraryRotation object at 0x7f45778f8668>, <__main__.CNOTEntangler object at 0x7f45778f86d8>, <__main__.ArbitraryRotation object at 0x7f45778f8710>, <__main__.CNOTEntangler object at 0x7f45778f8748>, <__main__.ArbitraryRotation object at 0x7f45778f8780>, <__main__.CNOTEntangler object at 0x7f45778f87b8>, <__main__.ArbitraryRotation object at 0x7f45778f87f0>, <__main__.CNOTEntangler object at 0x7f45778f8828>, <__main__.ArbitraryRotation object at 0x7f45778f8860>, <__main__.CNOTEntangler object at 0x7f45778f8898>, <__main__.ArbitraryRotation object at 0x7f45778f88d0>, <__main__.CNOTEntangler object at 0x7f45778f8908>, <__main__.ArbitraryRotation object at 0x7f45778f8940>]\n"
     ]
    }
   ],
   "source": [
    "# let's see how this circuit look like\n",
    "depth = 6\n",
    "pairs = get_nn_pairs(num_bit)\n",
    "circuit = get_demo_circuit(num_bit, depth, pairs)\n",
    "print(circuit)"
   ]
  },
  {
   "cell_type": "code",
   "execution_count": 26,
   "metadata": {
    "colab": {
     "autoexec": {
      "startup": false,
      "wait_interval": 0
     },
     "base_uri": "https://localhost:8080/",
     "height": 404
    },
    "colab_type": "code",
    "executionInfo": {
     "elapsed": 1375,
     "status": "ok",
     "timestamp": 1523077614782,
     "user": {
      "displayName": "刘金国",
      "photoUrl": "//lh3.googleusercontent.com/-lDAT81T3HSE/AAAAAAAAAAI/AAAAAAAAAgw/eH3JEob7M1Y/s50-c-k-no/photo.jpg",
      "userId": "116824001998056121289"
     },
     "user_tz": -480
    },
    "id": "iXCJDkXUl_ux",
    "outputId": "542a73d8-5ffb-4548-b323-302f8cb55765"
   },
   "outputs": [
    {
     "name": "stdout",
     "output_type": "stream",
     "text": [
      "[0.70710678+0.j         0.        +0.j         0.        +0.j\n",
      " 0.        +0.j         0.        +0.j         0.        +0.j\n",
      " 0.        +0.j         0.        +0.j         0.        +0.j\n",
      " 0.        +0.j         0.        +0.j         0.        +0.j\n",
      " 0.        +0.j         0.        +0.j         0.        +0.j\n",
      " 0.        +0.j         0.        +0.j         0.        +0.j\n",
      " 0.        +0.j         0.        +0.j         0.        +0.j\n",
      " 0.        +0.j         0.        +0.j         0.        +0.j\n",
      " 0.        +0.j         0.        +0.j         0.        +0.j\n",
      " 0.        +0.j         0.        +0.j         0.        +0.j\n",
      " 0.        +0.j         0.        +0.j         0.        -0.70710678j\n",
      " 0.        +0.j         0.        +0.j         0.        +0.j\n",
      " 0.        +0.j         0.        +0.j         0.        +0.j\n",
      " 0.        +0.j         0.        +0.j         0.        +0.j\n",
      " 0.        +0.j         0.        +0.j         0.        +0.j\n",
      " 0.        +0.j         0.        +0.j         0.        +0.j\n",
      " 0.        +0.j         0.        +0.j         0.        +0.j\n",
      " 0.        +0.j         0.        +0.j         0.        +0.j\n",
      " 0.        +0.j         0.        +0.j         0.        +0.j\n",
      " 0.        +0.j         0.        +0.j         0.        +0.j\n",
      " 0.        +0.j         0.        +0.j         0.        +0.j\n",
      " 0.        +0.j        ]\n"
     ]
    }
   ],
   "source": [
    "# let's see how this circuit works\n",
    "# rotating the last bit along x axis by pi/2.\n",
    "theta_list = np.zeros(circuit.num_param)\n",
    "theta_list[-1] = np.pi/2.\n",
    "\n",
    "wf = initial_wf(num_bit)\n",
    "circuit(wf, theta_list)\n",
    "\n",
    "# now you see the last bit is the high end bit!\n",
    "print(wf)"
   ]
  },
  {
   "cell_type": "markdown",
   "metadata": {
    "colab_type": "text",
    "id": "ZyeNb3A3l_uz"
   },
   "source": [
    "# MMD Loss Function\n",
    "As a reminder\n",
    "\\begin{align}\n",
    "    \\mathcal{L} =&  \\left\\|\\sum_{x} p_\\theta(x) \\phi(x)- \\sum_{x} \\pi(x) \\phi(x)  \\right\\|^2 \\\\\n",
    "    =&\\langle K(x,y)\\rangle_{x\\sim p_\\theta, y\\sim p_\\theta}-2\\langle K(x,y)\\rangle_{x\\sim p_\\theta,y\\sim \\pi}+\\langle K(x, y)\\rangle_{x\\sim \\pi,y\\sim \\pi}\n",
    "\\end{align}\n"
   ]
  },
  {
   "cell_type": "code",
   "execution_count": null,
   "metadata": {
    "colab": {
     "autoexec": {
      "startup": false,
      "wait_interval": 0
     }
    },
    "colab_type": "code",
    "collapsed": true,
    "id": "rNaRWyALl_u0"
   },
   "outputs": [],
   "source": [
    "class RBFMMD2(object):\n",
    "    '''\n",
    "    MMD^2 with RBF (Gaussian) kernel.\n",
    "    \n",
    "    Args:\n",
    "        sigma_list (list): a list of bandwidths.\n",
    "        basis (1darray): defininng space.\n",
    "      \n",
    "    Attributes:\n",
    "        K (2darray): full kernel matrix, notice the Hilbert is countable.\n",
    "    '''\n",
    "    def __init__(self, sigma_list, basis):\n",
    "        self.sigma_list = sigma_list\n",
    "        self.basis = basis\n",
    "        self.K = mix_rbf_kernel(basis, basis, self.sigma_list)\n",
    "\n",
    "    def __call__(self, px, py):\n",
    "        '''\n",
    "        Args:\n",
    "            px (1darray, default=None): probability for data set x, used only when self.is_exact==True.\n",
    "            py (1darray, default=None): same as px, but for data set y.\n",
    "\n",
    "        Returns:\n",
    "            float: loss.\n",
    "        '''\n",
    "        pxy = px-py\n",
    "        return self.kernel_expect(pxy, pxy)\n",
    "\n",
    "    def kernel_expect(self, px, py):\n",
    "        '''\n",
    "        expectation value of kernel function.\n",
    "        \n",
    "        Args:\n",
    "            px (1darray): the first PDF.\n",
    "            py (1darray): the second PDF.\n",
    "            \n",
    "        Returns:\n",
    "            float: kernel expectation.\n",
    "        '''\n",
    "        return px.dot(self.K).dot(py)\n",
    "\n",
    "def mix_rbf_kernel(x, y, sigma_list):\n",
    "    '''\n",
    "    multi-RBF kernel.\n",
    "    \n",
    "    Args:\n",
    "        x (1darray|2darray): the collection of samples A.\n",
    "        x (1darray|2darray): the collection of samples B.\n",
    "        sigma_list (list): a list of bandwidths.\n",
    "        \n",
    "    Returns:\n",
    "        2darray: kernel matrix.\n",
    "    '''\n",
    "    ndim = x.ndim\n",
    "    if ndim == 1:\n",
    "        exponent = np.abs(x[:, None] - y[None, :])**2\n",
    "    elif ndim == 2:\n",
    "        exponent = ((x[:, None, :] - y[None, :, :])**2).sum(axis=2)\n",
    "    else:\n",
    "        raise\n",
    "    K = 0.0\n",
    "    for sigma in sigma_list:\n",
    "        gamma = 1.0 / (2 * sigma)\n",
    "        K = K + np.exp(-gamma * exponent)\n",
    "    return K"
   ]
  },
  {
   "cell_type": "code",
   "execution_count": 39,
   "metadata": {
    "colab": {
     "autoexec": {
      "startup": false,
      "wait_interval": 0
     },
     "base_uri": "https://localhost:8080/",
     "height": 52
    },
    "colab_type": "code",
    "executionInfo": {
     "elapsed": 900,
     "status": "ok",
     "timestamp": 1523078667244,
     "user": {
      "displayName": "刘金国",
      "photoUrl": "//lh3.googleusercontent.com/-lDAT81T3HSE/AAAAAAAAAAI/AAAAAAAAAgw/eH3JEob7M1Y/s50-c-k-no/photo.jpg",
      "userId": "116824001998056121289"
     },
     "user_tz": -480
    },
    "id": "rqgpurrWjasl",
    "outputId": "e0aef7f3-d598-4e15-e16d-7c518fa02711"
   },
   "outputs": [
    {
     "name": "stdout",
     "output_type": "stream",
     "text": [
      "Exact Match -> MMD = 0.0000\n",
      "Not Match -> MMD = 0.0223\n"
     ]
    }
   ],
   "source": [
    "hndim = 2**num_bit\n",
    "# mmd loss\n",
    "mmd = RBFMMD2(sigma_list=[0.25,4], basis=np.arange(2**num_bit))\n",
    "\n",
    "# when exact match, MMD loss should be 0, e.g. two gaussians\n",
    "print('Exact Match -> MMD = %.4f'%mmd(pg, pg))\n",
    "# when not match, loss is not zero\n",
    "prand = np.random.random(len(pg))\n",
    "print('Not Match -> MMD = %.4f'%mmd(prand/prand.sum(), pg))"
   ]
  },
  {
   "cell_type": "markdown",
   "metadata": {
    "colab_type": "text",
    "id": "He6uVgqzl_u2"
   },
   "source": [
    "# Build The Gradient training framework for Born Machine\n",
    "The gradient of MMD loss is\n",
    "\n",
    "\\begin{align}\n",
    "        \\frac{\\partial \\mathcal{L}}{\\partial \\theta_l^i} &=&\\langle{K(x,y)}\\rangle_{x\\sim p_{\\theta^+}, y\\sim p_\\theta}-\\langle {K(x,y)}\\rangle_{x\\sim p_{\\theta^-},y\\sim p_\\theta}\\\\\n",
    "        &-&\\langle K(x,y)\\rangle_{x\\sim p_{\\theta^+},y\\sim \\pi}+\\langle {K(x,y)}\\rangle_{x\\sim p_{\\theta^-},y\\sim \\pi}.\n",
    "\\end{align}"
   ]
  },
  {
   "cell_type": "code",
   "execution_count": null,
   "metadata": {
    "colab": {
     "autoexec": {
      "startup": false,
      "wait_interval": 0
     }
    },
    "colab_type": "code",
    "collapsed": true,
    "id": "3tRLpcrQl_u3"
   },
   "outputs": [],
   "source": [
    "class QCBM(object):\n",
    "    '''\n",
    "    Quantum Circuit Born Machine framework,\n",
    "\n",
    "    Args:\n",
    "        circuit (BlockQueue): the circuit architechture.\n",
    "        mmd (RBFMMD2): maximum mean discrepancy.\n",
    "        p_data (1darray): data probability distribution in computation basis.\n",
    "        batch_size (int|None): introducing sampling error, None for no sampling error.\n",
    "    '''\n",
    "    def __init__(self, circuit, mmd, p_data, batch_size=None):\n",
    "        self.circuit = circuit\n",
    "        self.mmd = mmd\n",
    "        self.p_data = p_data\n",
    "        self.batch_size = batch_size\n",
    "\n",
    "    @property\n",
    "    def depth(self):\n",
    "        '''defined by the number of entanglers'''\n",
    "        return (len(self.circuit)-1)//2\n",
    "\n",
    "    def pdf(self, theta_list):\n",
    "        '''\n",
    "        get probability distribution function.\n",
    "        \n",
    "        Args:\n",
    "            theta_list (1darray): circuit parameters.\n",
    "            \n",
    "        Returns:\n",
    "            1darray: probability distribution function.\n",
    "        '''\n",
    "        wf = initial_wf(self.circuit.num_bit)\n",
    "        self.circuit(wf, theta_list)\n",
    "        pl = np.abs(wf)**2\n",
    "        # introducing sampling error\n",
    "        if self.batch_size is not None:\n",
    "            pl = prob_from_sample(sample_from_prob(np.arange(len(pl)), pl, self.batch_size),\n",
    "                    len(pl))\n",
    "        return pl\n",
    "\n",
    "    def mmd_loss(self, theta_list):\n",
    "        '''get the loss'''\n",
    "        # get and cahe probability distritbution of Born Machine\n",
    "        self._prob = self.pdf(theta_list)\n",
    "        # use wave function to get mmd loss\n",
    "        return self.mmd(self._prob, self.p_data)\n",
    "\n",
    "    def gradient(self, theta_list):\n",
    "        '''\n",
    "        cheat and get gradient.\n",
    "        '''\n",
    "        prob = self.pdf(theta_list)\n",
    "        grad = []\n",
    "        for i in range(len(theta_list)):\n",
    "            # pi/2 phase\n",
    "            theta_list[i] += np.pi/2.\n",
    "            prob_pos = self.pdf(theta_list)\n",
    "            # -pi/2 phase\n",
    "            theta_list[i] -= np.pi\n",
    "            prob_neg = self.pdf(theta_list)\n",
    "            # recover\n",
    "            theta_list[i] += np.pi/2.\n",
    "\n",
    "            grad_pos = self.mmd.kernel_expect(prob, prob_pos) - self.mmd.kernel_expect(prob, prob_neg)\n",
    "            grad_neg = self.mmd.kernel_expect(self.p_data, prob_pos) - self.mmd.kernel_expect(self.p_data, prob_neg)\n",
    "            grad.append(grad_pos - grad_neg)\n",
    "        return np.array(grad)\n",
    "\n",
    "    def gradient_numerical(self, theta_list, delta=1e-2):\n",
    "        '''\n",
    "        numerical differenciation.\n",
    "        '''\n",
    "        grad = []\n",
    "        for i in range(len(theta_list)):\n",
    "            theta_list[i] += delta/2.\n",
    "            loss_pos = self.mmd_loss(theta_list)\n",
    "            theta_list[i] -= delta\n",
    "            loss_neg = self.mmd_loss(theta_list)\n",
    "            theta_list[i] += delta/2.\n",
    "\n",
    "            grad_i = (loss_pos - loss_neg)/delta\n",
    "            grad.append(grad_i)\n",
    "        return np.array(grad)\n",
    "    \n",
    "def sample_from_prob(x, pl, num_sample):\n",
    "    '''\n",
    "    sample x ~ pl.\n",
    "    '''\n",
    "    pl = 1. / pl.sum() * pl\n",
    "    indices = np.arange(len(x))\n",
    "    res = np.random.choice(indices, num_sample, p=pl)\n",
    "    return np.array([x[r] for r in res])\n",
    "\n",
    "\n",
    "def prob_from_sample(dataset, hndim):\n",
    "    '''\n",
    "    emperical probability from data.\n",
    "    '''\n",
    "    p_data = np.bincount(dataset, minlength=hndim)\n",
    "    p_data = p_data / float(np.sum(p_data))\n",
    "    return p_data"
   ]
  },
  {
   "cell_type": "code",
   "execution_count": null,
   "metadata": {
    "colab": {
     "autoexec": {
      "startup": false,
      "wait_interval": 0
     }
    },
    "colab_type": "code",
    "collapsed": true,
    "id": "rhdRmpOgl_u5"
   },
   "outputs": [],
   "source": [
    "# Born Machine\n",
    "bm = QCBM(circuit, mmd, pg, batch_size=None)  # exact version"
   ]
  },
  {
   "cell_type": "code",
   "execution_count": 42,
   "metadata": {
    "colab": {
     "autoexec": {
      "startup": false,
      "wait_interval": 0
     },
     "base_uri": "https://localhost:8080/",
     "height": 35
    },
    "colab_type": "code",
    "executionInfo": {
     "elapsed": 727,
     "status": "ok",
     "timestamp": 1523078674207,
     "user": {
      "displayName": "刘金国",
      "photoUrl": "//lh3.googleusercontent.com/-lDAT81T3HSE/AAAAAAAAAAI/AAAAAAAAAgw/eH3JEob7M1Y/s50-c-k-no/photo.jpg",
      "userId": "116824001998056121289"
     },
     "user_tz": -480
    },
    "id": "fsOlbsLBl_u8",
    "outputId": "557124c6-687a-44d1-ccca-c4eb5d7d887e"
   },
   "outputs": [
    {
     "name": "stdout",
     "output_type": "stream",
     "text": [
      "MMD loss for Initial Circuit = 0.0440\n"
     ]
    }
   ],
   "source": [
    "theta_list = np.random.random(bm.circuit.num_param)*2*np.pi\n",
    "print('MMD loss for Initial Circuit = %.4f'%bm.mmd_loss(theta_list))"
   ]
  },
  {
   "cell_type": "code",
   "execution_count": 43,
   "metadata": {
    "colab": {
     "autoexec": {
      "startup": false,
      "wait_interval": 0
     },
     "base_uri": "https://localhost:8080/",
     "height": 686
    },
    "colab_type": "code",
    "executionInfo": {
     "elapsed": 2344,
     "status": "ok",
     "timestamp": 1523078677878,
     "user": {
      "displayName": "刘金国",
      "photoUrl": "//lh3.googleusercontent.com/-lDAT81T3HSE/AAAAAAAAAAI/AAAAAAAAAgw/eH3JEob7M1Y/s50-c-k-no/photo.jpg",
      "userId": "116824001998056121289"
     },
     "user_tz": -480
    },
    "id": "I-OXkiy6l_vB",
    "outputId": "c9a71940-ed8b-4644-c205-bedf7619c088"
   },
   "outputs": [
    {
     "name": "stdout",
     "output_type": "stream",
     "text": [
      "[ 0.00128546  0.00291719  0.00723749 -0.00212555 -0.00346394 -0.02016816\n",
      " -0.00328782 -0.00331141 -0.00163575  0.00344951 -0.00569198  0.00640275\n",
      " -0.01087395  0.02290944  0.01064659  0.00080618  0.00987338 -0.00198704\n",
      " -0.00293285 -0.0020108   0.01406099  0.01219367 -0.0071598  -0.00827463\n",
      " -0.00176098 -0.00610079 -0.01336093 -0.00128863 -0.01534401  0.00430679\n",
      "  0.00263345  0.00169888 -0.00967233 -0.00678989  0.00091382  0.01800348\n",
      " -0.00441233 -0.01295716  0.00563317 -0.00734346 -0.00115724  0.01418793\n",
      "  0.01608993 -0.00843482  0.01623441  0.00693906 -0.00473672  0.0004105\n",
      " -0.00503149 -0.00539715  0.00390338  0.00445442 -0.00231173  0.00106615\n",
      " -0.00127588 -0.01838359 -0.00504569  0.01889813 -0.01501975 -0.01206399\n",
      "  0.01178966  0.00371226 -0.00705478  0.02368941 -0.02082921  0.00739589\n",
      " -0.0021577  -0.01477283  0.00244763 -0.00204842  0.00652822 -0.00984969\n",
      "  0.02341545 -0.0020058   0.02421392  0.0110414   0.00014127  0.01062275\n",
      " -0.00643447 -0.01108307 -0.00313949 -0.02724891 -0.01278688  0.02732687\n",
      "  0.01152765  0.01059827 -0.01195812 -0.00862762  0.00084189  0.00983612\n",
      "  0.00131466 -0.00928871  0.00178275  0.01016269 -0.00956343 -0.00202157\n",
      "  0.00352308 -0.002335    0.00360078  0.00273339 -0.00488223  0.00591172\n",
      "  0.00146351  0.00280222  0.00017502 -0.0029901   0.00436573 -0.0085621\n",
      " -0.00592689 -0.01484778 -0.00706659  0.00452008  0.00867807  0.00718175]\n",
      "[ 0.00128542  0.00291719  0.00723746 -0.00212556 -0.00346392 -0.02016801\n",
      " -0.00328784 -0.00331133 -0.00163568  0.00344948 -0.00569199  0.00640267\n",
      " -0.01087391  0.02290925  0.01064655  0.00080618  0.00987343 -0.00198707\n",
      " -0.00293278 -0.00201083  0.0140608   0.01219353 -0.00715968 -0.00827451\n",
      " -0.00176097 -0.00610067 -0.01336084 -0.00128863 -0.01534388  0.00430675\n",
      "  0.00263338  0.00169886 -0.00967222 -0.00678978  0.00091391  0.01800338\n",
      " -0.00441234 -0.01295712  0.00563318 -0.0073434  -0.00115716  0.01418772\n",
      "  0.01608972 -0.00843474  0.01623432  0.00693902 -0.00473666  0.0004105\n",
      " -0.00503148 -0.00539708  0.00390345  0.00445426 -0.00231182  0.00106609\n",
      " -0.00127601 -0.0183835  -0.00504567  0.01889794 -0.01501969 -0.01206383\n",
      "  0.01178963  0.00371229 -0.00705485  0.02368918 -0.0208291   0.00739584\n",
      " -0.00215777 -0.01477268  0.00244772 -0.00204841  0.00652816 -0.00984968\n",
      "  0.02341519 -0.00200574  0.02421365  0.01104129  0.00014131  0.01062264\n",
      " -0.00643433 -0.0110831  -0.00313947 -0.02724875 -0.01278672  0.02732672\n",
      "  0.01152756  0.01059819 -0.01195809 -0.00862755  0.00084186  0.00983597\n",
      "  0.00131462 -0.00928857  0.00178273  0.01016249 -0.00956329 -0.00202151\n",
      "  0.00352312 -0.00233488  0.00360066  0.00273341 -0.00488221  0.00591174\n",
      "  0.00146349  0.00280217  0.00017502 -0.00299004  0.0043657  -0.00856198\n",
      " -0.00592664 -0.01484749 -0.00706653  0.00451995  0.008678    0.00718163]\n"
     ]
    }
   ],
   "source": [
    "# gradient test\n",
    "# these two gradients should match.\n",
    "g1 = bm.gradient(theta_list)\n",
    "print(g1)\n",
    "g2 = bm.gradient_numerical(theta_list)\n",
    "print(g2)"
   ]
  },
  {
   "cell_type": "markdown",
   "metadata": {
    "colab_type": "text",
    "id": "u7m6D8jBl_vE"
   },
   "source": [
    "# Training\n",
    "In this basic introduction, I prepaired classical training method like `Adam` and `L-BFGS-B` (as well as other methods supported by scipy)."
   ]
  },
  {
   "cell_type": "code",
   "execution_count": null,
   "metadata": {
    "colab": {
     "autoexec": {
      "startup": false,
      "wait_interval": 0
     }
    },
    "colab_type": "code",
    "collapsed": true,
    "id": "jtvCimfRl_vF"
   },
   "outputs": [],
   "source": [
    "def train(bm, theta_list, method, max_iter=1000, step_rate=0.1):\n",
    "    '''\n",
    "    train a Born Machine.\n",
    "    \n",
    "    Args:\n",
    "        bm (QCBM): quantum circuit born machine training strategy.\n",
    "        theta_list (1darray): initial parameters.\n",
    "        method ('Adam'|'L-BFGS-B'):\n",
    "            * L-BFGS-B: efficient, but not noise tolerant.\n",
    "            * Adam: noise tolerant.\n",
    "        max_iter (int): maximum allowed number of iterations.\n",
    "        step_rate (float): learning rate for Adam optimizer.\n",
    "        \n",
    "    Returns:\n",
    "        (float, 1darray): final loss and parameters.\n",
    "    '''\n",
    "    step = [0]\n",
    "    def callback(x, *args, **kwargs):\n",
    "        step[0] += 1\n",
    "        print('step = %d, loss = %s'%(step[0], bm.mmd_loss(x)))\n",
    "        \n",
    "    theta_list = np.array(theta_list)\n",
    "    if method == 'Adam':\n",
    "        try:\n",
    "            from climin import Adam\n",
    "        except:\n",
    "            !pip install git+https://github.com/BRML/climin.git\n",
    "            from climin import Adam\n",
    "        optimizer = Adam(wrt=theta_list, fprime=bm.gradient,step_rate=step_rate)\n",
    "        for info in optimizer:\n",
    "            callback(theta_list)\n",
    "            if step[0] == max_iter:\n",
    "                break\n",
    "        return bm.mmd_loss(theta_list), theta_list\n",
    "    else:\n",
    "        from scipy.optimize import minimize\n",
    "        res = minimize(bm.mmd_loss, x0=theta_list,\n",
    "                       method=method, jac = bm.gradient, tol=1e-12,\n",
    "                       options={'maxiter': max_iter, 'disp': 0, 'gtol':1e-10, 'ftol':0},\n",
    "                       callback=callback,\n",
    "                       )\n",
    "        return res.fun, res.x"
   ]
  },
  {
   "cell_type": "code",
   "execution_count": 45,
   "metadata": {
    "colab": {
     "autoexec": {
      "startup": false,
      "wait_interval": 0
     },
     "base_uri": "https://localhost:8080/",
     "height": 718
    },
    "colab_type": "code",
    "executionInfo": {
     "elapsed": 22631,
     "status": "ok",
     "timestamp": 1523078706459,
     "user": {
      "displayName": "刘金国",
      "photoUrl": "//lh3.googleusercontent.com/-lDAT81T3HSE/AAAAAAAAAAI/AAAAAAAAAgw/eH3JEob7M1Y/s50-c-k-no/photo.jpg",
      "userId": "116824001998056121289"
     },
     "user_tz": -480
    },
    "id": "-AqBAGQll_vH",
    "outputId": "4a9a1d31-4eb9-4e58-c287-f94e1362d9db"
   },
   "outputs": [
    {
     "name": "stdout",
     "output_type": "stream",
     "text": [
      "step = 1, loss = 0.013677884412702809\n",
      "step = 2, loss = 0.00733783537136784\n",
      "step = 3, loss = 0.005332945663816636\n",
      "step = 4, loss = 0.003750332057020234\n",
      "step = 5, loss = 0.0026965146539037884\n",
      "step = 6, loss = 0.0017881527416103668\n",
      "step = 7, loss = 0.0012967270420159629\n",
      "step = 8, loss = 0.0009887531047653789\n",
      "step = 9, loss = 0.0008432600976612844\n",
      "step = 10, loss = 0.0005702653905143802\n",
      "step = 11, loss = 0.0004177149601075345\n",
      "step = 12, loss = 0.000305415677667581\n",
      "step = 13, loss = 0.00024104037264618868\n",
      "step = 14, loss = 0.00017974944146808468\n",
      "step = 15, loss = 0.00014187031341621125\n",
      "step = 16, loss = 0.00010255374177388627\n",
      "step = 17, loss = 7.403483740163813e-05\n",
      "step = 18, loss = 5.507592226980723e-05\n",
      "step = 19, loss = 4.1980470411244044e-05\n",
      "step = 20, loss = 3.289794920927741e-05\n",
      "step = 21, loss = 2.105999023050527e-05\n"
     ]
    },
    {
     "data": {
      "image/png": "[encoded data removed]",
      "text/plain": [
       "<matplotlib.figure.Figure at 0x7f457796a710>"
      ]
     },
     "metadata": {
      "tags": []
     },
     "output_type": "display_data"
    }
   ],
   "source": [
    "# random initial parameter\n",
    "theta_list = np.random.random(bm.circuit.num_param)*2*np.pi\n",
    "\n",
    "loss, theta_list = train(bm, theta_list, 'L-BFGS-B', max_iter=20)\n",
    "pl = bm.pdf(theta_list)\n",
    "\n",
    "# display training result\n",
    "plt.plot(bm.p_data)\n",
    "plt.plot(pl)\n",
    "plt.legend(['Data', 'Quantum Circuit Born Machine'])\n",
    "plt.show()"
   ]
  },
  {
   "cell_type": "code",
   "execution_count": null,
   "metadata": {
    "colab": {
     "autoexec": {
      "startup": false,
      "wait_interval": 0
     }
    },
    "colab_type": "code",
    "collapsed": true,
    "id": "X334bsZyl_vK"
   },
   "outputs": [],
   "source": []
  }
 ],
 "metadata": {
  "colab": {
   "collapsed_sections": [],
   "default_view": {},
   "name": "qcbm_gaussian.ipynb",
   "provenance": [],
   "version": "0.3.2",
   "views": {}
  },
  "kernelspec": {
   "display_name": "Python 3.9.13 ('Qiskit-stable')",
   "language": "python",
   "name": "python3"
  },
  "language_info": {
   "codemirror_mode": {
    "name": "ipython",
    "version": 3
   },
   "file_extension": ".py",
   "mimetype": "text/x-python",
   "name": "python",
   "nbconvert_exporter": "python",
   "pygments_lexer": "ipython3",
   "version": "3.9.13"
  },
  "vscode": {
   "interpreter": {
    "hash": "14e8c516e43be8c9be8f0476263ff90197a2779cc0f096f72917c752580c8eb3"
   }
  }
 },
 "nbformat": 4,
 "nbformat_minor": 1
}
